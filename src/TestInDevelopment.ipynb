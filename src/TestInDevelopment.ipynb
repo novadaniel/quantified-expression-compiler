{
 "cells": [
  {
   "cell_type": "code",
   "execution_count": 1,
   "metadata": {},
   "outputs": [
    {
     "name": "stdout",
     "output_type": "stream",
     "text": [
      "Importing Jupyter notebook from P0.ipynb\n",
      "Importing Jupyter notebook from SC.ipynb\n",
      "Importing Jupyter notebook from ST.ipynb\n"
     ]
    }
   ],
   "source": [
    "import nbimporter; nbimporter.options[\"only_defs\"] = False\n",
    "from P0 import compileString\n",
    "\n",
    "def runpywasm(wasmfile):\n",
    "    import pywasm\n",
    "    def write(s, i): print(i)\n",
    "    def writeln(s): print('\\n')\n",
    "    def read(s): return int(input())\n",
    "    vm = pywasm.load(wasmfile, {'P0lib': {'write': write, 'writeln': writeln, 'read': read}})"
   ]
  },
  {
   "cell_type": "code",
   "execution_count": 2,
   "metadata": {},
   "outputs": [],
   "source": [
    "def runwasm(wasmfile):\n",
    "    from IPython.core.display import display, Javascript\n",
    "    display(Javascript(\"\"\"\n",
    "    const params = { \n",
    "        P0lib: { \n",
    "            write: i => this.append_stream({text: '' + i, name: 'stdout'}),\n",
    "            writeln: () => this.append_stream({text: '\\\\n', name: 'stdout'}),\n",
    "            read: () => window.prompt()\n",
    "        }\n",
    "    }\n",
    "\n",
    "    fetch('\"\"\" + wasmfile + \"\"\"') // asynchronously fetch file, return Response object\n",
    "      .then(response => response.arrayBuffer()) // read the response to completion and stores it in an ArrayBuffer\n",
    "      .then(code => WebAssembly.compile(code)) // compile (sharable) code.wasm\n",
    "      .then(module => WebAssembly.instantiate(module, params)) // create an instance with memory\n",
    "    // .then(instance => instance.exports.program()); // run the main program; not needed if start function specified\n",
    "    \"\"\"))"
   ]
  },
  {
   "cell_type": "code",
   "execution_count": 3,
   "metadata": {},
   "outputs": [],
   "source": [
    "from wasmer import engine, Store, Module, Instance, ImportObject, Function\n",
    "from wasmer_compiler_cranelift import Compiler\n",
    "\n",
    "def runwasmer(wasmfile):\n",
    "    def write(i: int): print(i)\n",
    "    def writeln(): print('\\n')\n",
    "    def read() -> int: return int(input()) \n",
    "    store = Store(engine.JIT(Compiler))\n",
    "    module = Module(store, open(wasmfile, 'rb').read())\n",
    "    import_object = ImportObject()\n",
    "    import_object.register(\"P0lib\", {\"write\": Function(store, write),\n",
    "                                     \"writeln\": Function(store, writeln),\"read\": Function(store, read)})\n",
    "    instance = Instance(module, import_object)"
   ]
  },
  {
   "cell_type": "code",
   "execution_count": 2,
   "metadata": {},
   "outputs": [],
   "source": [
    "compileString(\"\"\"\n",
    "type Arr = [0 .. 5] → integer\n",
    "type Set = set[0..5]\n",
    "program repeatprimes\n",
    "    var sorted:boolean\n",
    "    var i:integer\n",
    "    var a:Arr\n",
    "        a[0] := 1\n",
    "        a[1] := 2\n",
    "        a[2] := 3\n",
    "        a[3] := 4\n",
    "        a[4] := 5\n",
    "        a[5] := 6\n",
    "        a := [2 × 2 for i ∈ 0 .. 5]\n",
    "        write(a[0])\n",
    "        write(a[1])\n",
    "        write(a[2])\n",
    "        write(a[3])\n",
    "        write(a[4])\n",
    "        write(a[5])  \n",
    "        \n",
    "\n",
    "\"\"\", 'test.wat', target = 'wat')"
   ]
  },
  {
   "cell_type": "code",
   "execution_count": 3,
   "metadata": {},
   "outputs": [
    {
     "name": "stdout",
     "output_type": "stream",
     "text": [
      "\u001b[1mtest.wat:103:1: \u001b[31merror: \u001b[0mopcode not allowed: memory.copy\n",
      "memory.copy\n",
      "\u001b[1m\u001b[32m^^^^^^^^^^^\u001b[0m\n"
     ]
    },
    {
     "ename": "NameError",
     "evalue": "name 'runwasm' is not defined",
     "output_type": "error",
     "traceback": [
      "\u001b[0;31m---------------------------------------------------------------------------\u001b[0m",
      "\u001b[0;31mNameError\u001b[0m                                 Traceback (most recent call last)",
      "\u001b[0;32m/tmp/ipykernel_130263/2139997236.py\u001b[0m in \u001b[0;36m<module>\u001b[0;34m\u001b[0m\n\u001b[1;32m      1\u001b[0m \u001b[0mget_ipython\u001b[0m\u001b[0;34m(\u001b[0m\u001b[0;34m)\u001b[0m\u001b[0;34m.\u001b[0m\u001b[0msystem\u001b[0m\u001b[0;34m(\u001b[0m\u001b[0;34m'wat2wasm test.wat'\u001b[0m\u001b[0;34m)\u001b[0m\u001b[0;34m\u001b[0m\u001b[0;34m\u001b[0m\u001b[0m\n\u001b[0;32m----> 2\u001b[0;31m \u001b[0mrunwasm\u001b[0m\u001b[0;34m(\u001b[0m\u001b[0;34m\"test.wasm\"\u001b[0m\u001b[0;34m)\u001b[0m\u001b[0;34m\u001b[0m\u001b[0;34m\u001b[0m\u001b[0m\n\u001b[0m",
      "\u001b[0;31mNameError\u001b[0m: name 'runwasm' is not defined"
     ]
    }
   ],
   "source": [
    "!wat2wasm test.wat\n",
    "runwasm(\"test.wasm\")"
   ]
  },
  {
   "cell_type": "markdown",
   "metadata": {},
   "source": [
    "Example of what needs to be compiled:\n",
    "        a[0] := 1\n",
    "        a[1] := 2\n",
    "        a[2] := 3\n",
    "        a[3] := 4\n",
    "        a[4] := 5\n",
    "        a[5] := 6\n",
    "        sorted := some i ∈ 0 .. 4 • a[i] = 6\n",
    "\n",
    "        a := [i ∈ 0 .. 5 • i × i]\n",
    "\n",
    "a := {i for i ∈ 0 .. 5 if i mod 2 = 1} \n",
    "b := {i ∈ 0 .. 5 | i mod 2 = 1 • i} \n",
    "\n",
    "\n",
    "        a[0] := 7\n",
    "        a[1] := 8\n",
    "        a[2] := 9\n",
    "        a[3] := 10\n",
    "        a[4] := 11\n",
    "        a[5] := 12\n",
    "        a := [i ∈ 0 .. 5 • i × i]\n",
    "        write(a[0])\n",
    "        write(a[1])\n",
    "        write(a[2])\n",
    "        write(a[3])\n",
    "        write(a[4])\n",
    "        write(a[5])  "
   ]
  },
  {
   "cell_type": "code",
   "execution_count": 4,
   "metadata": {},
   "outputs": [
    {
     "name": "stdout",
     "output_type": "stream",
     "text": [
      "(module\n",
      "(import \"P0lib\" \"write\" (func $write (param i32)))\n",
      "(import \"P0lib\" \"writeln\" (func $writeln))\n",
      "(import \"P0lib\" \"read\" (func $read (result i32)))\n",
      "(global $_memsize (mut i32) i32.const 0)\n",
      "(func $program\n",
      "(local $sorted i32)\n",
      "(local $i i32)\n",
      "(local $a i32)\n",
      "(local $b i32)\n",
      "(local $0 i32)\n",
      "(local $_fp i32)\n",
      "global.get $_memsize\n",
      "local.set $_fp\n",
      "global.get $_memsize\n",
      "local.tee $a\n",
      "i32.const 24\n",
      "i32.add\n",
      "global.set $_memsize\n",
      "global.get $_memsize\n",
      "local.tee $b\n",
      "i32.const 24\n",
      "i32.add\n",
      "global.set $_memsize\n",
      "local.get $a\n",
      "local.get $b\n",
      "i32.const 24\n",
      "memory.copy\n",
      "local.get $_fp\n",
      "global.set $_memsize\n",
      ")\n",
      "(memory 1)\n",
      "(start $program)\n",
      ")"
     ]
    }
   ],
   "source": [
    "!cat test.wat #This is for printing text output of wat file"
   ]
  },
  {
   "cell_type": "code",
   "execution_count": 6,
   "metadata": {
    "scrolled": false
   },
   "outputs": [
    {
     "data": {
      "text/plain": [
       "'(module\\n(import \"P0lib\" \"write\" (func $write (param i32)))\\n(import \"P0lib\" \"writeln\" (func $writeln))\\n(import \"P0lib\" \"read\" (func $read (result i32)))\\n(global $_memsize (mut i32) i32.const 0)\\n(func $program\\n(local $sorted i32)\\n(local $i i32)\\n(local $a i32)\\n(local $0 i32)\\n(local $_fp i32)\\nglobal.get $_memsize\\nlocal.set $_fp\\nglobal.get $_memsize\\nlocal.tee $a\\ni32.const 24\\ni32.add\\nglobal.set $_memsize\\ni32.const 0\\ni32.const 4\\ni32.mul\\nlocal.get $a\\ni32.add\\ni32.const 1\\ni32.store\\ni32.const 1\\ni32.const 4\\ni32.mul\\nlocal.get $a\\ni32.add\\ni32.const 2\\ni32.store\\ni32.const 2\\ni32.const 4\\ni32.mul\\nlocal.get $a\\ni32.add\\ni32.const 3\\ni32.store\\ni32.const 3\\ni32.const 4\\ni32.mul\\nlocal.get $a\\ni32.add\\ni32.const 4\\ni32.store\\ni32.const 4\\ni32.const 4\\ni32.mul\\nlocal.get $a\\ni32.add\\ni32.const 5\\ni32.store\\ni32.const 5\\ni32.const 4\\ni32.mul\\nlocal.get $a\\ni32.add\\ni32.const 6\\ni32.store\\ni32.const 0\\nlocal.set $i\\nglobal.get $_memsize\\ni32.const 1\\ni32.store\\nloop $i_loop\\nlocal.get $i\\ni32.const 4\\ni32.le_s\\nif\\nglobal.get $_memsize\\nlocal.get $i\\ni32.const 4\\ni32.mul\\nlocal.get $a\\ni32.add\\ni32.load\\nlocal.get $i\\ni32.const 1\\ni32.add\\ni32.const 4\\ni32.mul\\nlocal.get $a\\ni32.add\\ni32.load\\ni32.le_s\\nglobal.get $_memsize\\ni32.load\\ni32.and\\ni32.store\\nlocal.get $i\\ni32.const 1\\ni32.add\\nlocal.set $i\\nbr $i_loop\\nend\\nend\\nglobal.get $_memsize\\ni32.load\\nlocal.set $sorted\\nlocal.get $_fp\\nglobal.set $_memsize\\n)\\n(memory 1)\\n(start $program)\\n)'"
      ]
     },
     "execution_count": 6,
     "metadata": {},
     "output_type": "execute_result"
    }
   ],
   "source": [
    "compileString(\"\"\"\n",
    "type Arr = [0 .. 5] → integer\n",
    "program test\n",
    "    var sorted:boolean\n",
    "    var i:integer\n",
    "    var a:Arr\n",
    "        a[0] := 1\n",
    "        a[1] := 2\n",
    "        a[2] := 3\n",
    "        a[3] := 4\n",
    "        a[4] := 5\n",
    "        a[5] := 6\n",
    "        sorted := ∀ i ∈ 0 .. 4 • a[i] ≤ a[i + 1] \n",
    "\"\"\", target = 'wat')"
   ]
  },
  {
   "cell_type": "markdown",
   "metadata": {},
   "source": [
    "# DEMO"
   ]
  },
  {
   "cell_type": "code",
   "execution_count": 5,
   "metadata": {},
   "outputs": [
    {
     "name": "stdout",
     "output_type": "stream",
     "text": [
      "Importing Jupyter notebook from CGwat.ipynb\n"
     ]
    }
   ],
   "source": [
    "compileString(\"\"\"\n",
    "type Arr = [0 .. 5] → integer\n",
    "program test\n",
    "    var sorted:boolean\n",
    "    var i:integer\n",
    "    var a:Arr\n",
    "        a[0] := 1\n",
    "        a[1] := 2\n",
    "        a[2] := 3\n",
    "        a[3] := 4\n",
    "        a[4] := 5\n",
    "        a[5] := 6\n",
    "        sorted := all i ∈ 0 .. 4 • a[i] ≤ a[i + 1] \n",
    "\"\"\", 'test.wat', target = 'wat')\n",
    "\n",
    "compileString(\"\"\"\n",
    "type Arr = [0 .. 5] → integer\n",
    "program test\n",
    "    var sorted:boolean\n",
    "    var i:integer\n",
    "    var a:Arr\n",
    "        a[0] := 1\n",
    "        a[1] := 2\n",
    "        a[2] := 3\n",
    "        a[3] := 4\n",
    "        a[4] := 5\n",
    "        a[5] := 6\n",
    "        sorted := ∀ i ∈ 0 .. 4 • a[i] ≤ a[i + 1]\n",
    "        \n",
    "        if sorted = true then\n",
    "            write(1)\n",
    "        else\n",
    "            write(0)\n",
    "        \n",
    "\"\"\", 'test.wat', target = 'wat')"
   ]
  },
  {
   "cell_type": "code",
   "execution_count": 6,
   "metadata": {},
   "outputs": [
    {
     "data": {
      "application/javascript": [
       "\n",
       "    const params = { \n",
       "        P0lib: { \n",
       "            write: i => this.append_stream({text: '' + i, name: 'stdout'}),\n",
       "            writeln: () => this.append_stream({text: '\\n', name: 'stdout'}),\n",
       "            read: () => window.prompt()\n",
       "        }\n",
       "    }\n",
       "\n",
       "    fetch('test.wasm') // asynchronously fetch file, return Response object\n",
       "      .then(response => response.arrayBuffer()) // read the response to completion and stores it in an ArrayBuffer\n",
       "      .then(code => WebAssembly.compile(code)) // compile (sharable) code.wasm\n",
       "      .then(module => WebAssembly.instantiate(module, params)) // create an instance with memory\n",
       "    // .then(instance => instance.exports.program()); // run the main program; not needed if start function specified\n",
       "    "
      ],
      "text/plain": [
       "<IPython.core.display.Javascript object>"
      ]
     },
     "metadata": {},
     "output_type": "display_data"
    }
   ],
   "source": [
    "!wat2wasm test.wat\n",
    "runwasm(\"test.wasm\")"
   ]
  },
  {
   "cell_type": "code",
   "execution_count": 7,
   "metadata": {},
   "outputs": [],
   "source": [
    "compileString(\"\"\"\n",
    "type Arr = [0 .. 5] → integer\n",
    "program test\n",
    "    var found:boolean\n",
    "    var i:integer\n",
    "    var a:Arr\n",
    "        a[0] := 1\n",
    "        a[1] := 2\n",
    "        a[2] := 3\n",
    "        a[3] := 4\n",
    "        a[4] := 5\n",
    "        a[5] := 6\n",
    "        found := ∃ i ∈ 0 .. 5 • a[i] = 5   \n",
    "\"\"\", 'test.wat', target = 'wat')\n",
    "\n",
    "compileString(\"\"\"\n",
    "type Arr = [0 .. 5] → integer\n",
    "program test\n",
    "    var found:boolean\n",
    "    var i:integer\n",
    "    var a:Arr\n",
    "        a[0] := 1\n",
    "        a[1] := 2\n",
    "        a[2] := 3\n",
    "        a[3] := 4\n",
    "        a[4] := 5\n",
    "        a[5] := 6\n",
    "        found := some i ∈ 0 .. 5 • a[i] = 5 \n",
    "        \n",
    "        if found = true then\n",
    "            write(1)\n",
    "        else\n",
    "            write(0)\n",
    "\"\"\", 'test.wat', target = 'wat')"
   ]
  },
  {
   "cell_type": "code",
   "execution_count": 8,
   "metadata": {},
   "outputs": [
    {
     "data": {
      "application/javascript": [
       "\n",
       "    const params = { \n",
       "        P0lib: { \n",
       "            write: i => this.append_stream({text: '' + i, name: 'stdout'}),\n",
       "            writeln: () => this.append_stream({text: '\\n', name: 'stdout'}),\n",
       "            read: () => window.prompt()\n",
       "        }\n",
       "    }\n",
       "\n",
       "    fetch('test.wasm') // asynchronously fetch file, return Response object\n",
       "      .then(response => response.arrayBuffer()) // read the response to completion and stores it in an ArrayBuffer\n",
       "      .then(code => WebAssembly.compile(code)) // compile (sharable) code.wasm\n",
       "      .then(module => WebAssembly.instantiate(module, params)) // create an instance with memory\n",
       "    // .then(instance => instance.exports.program()); // run the main program; not needed if start function specified\n",
       "    "
      ],
      "text/plain": [
       "<IPython.core.display.Javascript object>"
      ]
     },
     "metadata": {},
     "output_type": "display_data"
    }
   ],
   "source": [
    "!wat2wasm test.wat\n",
    "runwasm(\"test.wasm\")"
   ]
  },
  {
   "cell_type": "code",
   "execution_count": null,
   "metadata": {},
   "outputs": [],
   "source": [
    "compileString(\"\"\"\n",
    "type Arr = [0 .. 5] → integer\n",
    "program test\n",
    "    var squares:Arr\n",
    "    var i:integer\n",
    "    var a:Arr\n",
    "        squares := [i ∈ 0 .. 5 • i × i]  \n",
    "\"\"\", 'test.wat', target = 'wat')\n",
    "\n",
    "compileString(\"\"\"\n",
    "type Arr = [0 .. 5] → integer\n",
    "program test\n",
    "    var squares:Arr\n",
    "    var i:integer\n",
    "    var a:Arr\n",
    "        squares := [i × i for i ∈ 0 .. 5]  \n",
    "\"\"\", 'test.wat', target = 'wat')\n"
   ]
  },
  {
   "cell_type": "code",
   "execution_count": null,
   "metadata": {},
   "outputs": [],
   "source": [
    "!wat2wasm test.wat\n",
    "runwasm(\"test.wasm\")"
   ]
  },
  {
   "cell_type": "code",
   "execution_count": 4,
   "metadata": {},
   "outputs": [
    {
     "name": "stdout",
     "output_type": "stream",
     "text": [
      "Importing Jupyter notebook from CGwat.ipynb\n"
     ]
    },
    {
     "ename": "Exception",
     "evalue": "line 9 pos 29 bad type 1",
     "output_type": "error",
     "traceback": [
      "\u001b[0;31m---------------------------------------------------------------------------\u001b[0m",
      "\u001b[0;31mException\u001b[0m                                 Traceback (most recent call last)",
      "\u001b[0;32m~/PROJECT/P0.ipynb\u001b[0m in \u001b[0;36mcompileString\u001b[0;34m(src, dstfn, target)\u001b[0m\n\u001b[1;32m      7\u001b[0m    },\n\u001b[0;32m----> 8\u001b[0;31m    \"source\": [\n\u001b[0m\u001b[1;32m      9\u001b[0m     \u001b[0;34m\"**COMP SCI 4TB3/6TB3, McMaster University**  \\n\"\u001b[0m\u001b[0;34m,\u001b[0m\u001b[0;34m\u001b[0m\u001b[0;34m\u001b[0m\u001b[0m\n",
      "\u001b[0;32m~/PROJECT/P0.ipynb\u001b[0m in \u001b[0;36mprogram\u001b[0;34m()\u001b[0m\n\u001b[1;32m     15\u001b[0m   {\n\u001b[0;32m---> 16\u001b[0;31m    \u001b[0;34m\"cell_type\"\u001b[0m\u001b[0;34m:\u001b[0m \u001b[0;34m\"markdown\"\u001b[0m\u001b[0;34m,\u001b[0m\u001b[0;34m\u001b[0m\u001b[0;34m\u001b[0m\u001b[0m\n\u001b[0m\u001b[1;32m     17\u001b[0m    \"metadata\": {\n",
      "\u001b[0;32m~/PROJECT/P0.ipynb\u001b[0m in \u001b[0;36mbody\u001b[0;34m(ident, parsize)\u001b[0m\n\u001b[1;32m      8\u001b[0m    \"source\": [\n\u001b[0;32m----> 9\u001b[0;31m     \u001b[0;34m\"**COMP SCI 4TB3/6TB3, McMaster University**  \\n\"\u001b[0m\u001b[0;34m,\u001b[0m\u001b[0;34m\u001b[0m\u001b[0;34m\u001b[0m\u001b[0m\n\u001b[0m\u001b[1;32m     10\u001b[0m     \u001b[0;34m\"**Emil Sekerinski, revised February 2022**\\n\"\u001b[0m\u001b[0;34m,\u001b[0m\u001b[0;34m\u001b[0m\u001b[0;34m\u001b[0m\u001b[0m\n",
      "\u001b[0;32m~/PROJECT/P0.ipynb\u001b[0m in \u001b[0;36mstatementBlock\u001b[0;34m()\u001b[0m\n\u001b[1;32m      4\u001b[0m    \u001b[0;34m\"cell_type\"\u001b[0m\u001b[0;34m:\u001b[0m \u001b[0;34m\"markdown\"\u001b[0m\u001b[0;34m,\u001b[0m\u001b[0;34m\u001b[0m\u001b[0;34m\u001b[0m\u001b[0m\n\u001b[0;32m----> 5\u001b[0;31m    \"metadata\": {\n\u001b[0m\u001b[1;32m      6\u001b[0m     \u001b[0;34m\"hidePrompt\"\u001b[0m\u001b[0;34m:\u001b[0m \u001b[0mtrue\u001b[0m\u001b[0;34m\u001b[0m\u001b[0;34m\u001b[0m\u001b[0m\n",
      "\u001b[0;32m~/PROJECT/P0.ipynb\u001b[0m in \u001b[0;36mstatementList\u001b[0;34m()\u001b[0m\n\u001b[1;32m      1\u001b[0m {\n\u001b[0;32m----> 2\u001b[0;31m  \"cells\": [\n\u001b[0m\u001b[1;32m      3\u001b[0m   {\n",
      "\u001b[0;32m~/PROJECT/P0.ipynb\u001b[0m in \u001b[0;36mstatement\u001b[0;34m()\u001b[0m\n\u001b[1;32m     77\u001b[0m   },\n\u001b[0;32m---> 78\u001b[0;31m   {\n\u001b[0m\u001b[1;32m     79\u001b[0m    \u001b[0;34m\"cell_type\"\u001b[0m\u001b[0;34m:\u001b[0m \u001b[0;34m\"markdown\"\u001b[0m\u001b[0;34m,\u001b[0m\u001b[0;34m\u001b[0m\u001b[0;34m\u001b[0m\u001b[0m\n",
      "\u001b[0;32m~/PROJECT/P0.ipynb\u001b[0m in \u001b[0;36mexpression\u001b[0;34m()\u001b[0m\n\u001b[1;32m     25\u001b[0m     \u001b[0;34m\"* _Assignment statement_ (`x₁`, `x₂`, … variable identifers, `d` selector, `e`, `e₁`, `e₂`, … expressions):\\n\"\u001b[0m\u001b[0;34m,\u001b[0m\u001b[0;34m\u001b[0m\u001b[0;34m\u001b[0m\u001b[0m\n\u001b[0;32m---> 26\u001b[0;31m     \u001b[0;34m\"      x₁, x₂, … := e₁, e₂, …\\n\"\u001b[0m\u001b[0;34m,\u001b[0m\u001b[0;34m\u001b[0m\u001b[0;34m\u001b[0m\u001b[0m\n\u001b[0m\u001b[1;32m     27\u001b[0m     \u001b[0;34m\"      x d := e\\n\"\u001b[0m\u001b[0;34m,\u001b[0m\u001b[0;34m\u001b[0m\u001b[0;34m\u001b[0m\u001b[0m\n",
      "\u001b[0;32m~/PROJECT/SC.ipynb\u001b[0m in \u001b[0;36mmark\u001b[0;34m(msg)\u001b[0m\n\u001b[1;32m      1\u001b[0m {\n\u001b[0;32m----> 2\u001b[0;31m  \"cells\": [\n\u001b[0m\u001b[1;32m      3\u001b[0m   {\n",
      "\u001b[0;31mException\u001b[0m: line 9 pos 29 bad type 1",
      "\nDuring handling of the above exception, another exception occurred:\n",
      "\u001b[0;31mException\u001b[0m                                 Traceback (most recent call last)",
      "\u001b[0;32m<ipython-input-4-ce6c0128e0a0>\u001b[0m in \u001b[0;36m<module>\u001b[0;34m\u001b[0m\n\u001b[1;32m      7\u001b[0m \"\"\", 'test.wat', target = 'wat')\n\u001b[1;32m      8\u001b[0m \u001b[0;34m\u001b[0m\u001b[0m\n\u001b[0;32m----> 9\u001b[0;31m compileString(\"\"\"\n\u001b[0m\u001b[1;32m     10\u001b[0m \u001b[0mtype\u001b[0m \u001b[0mSet\u001b[0m \u001b[0;34m=\u001b[0m \u001b[0mset\u001b[0m\u001b[0;34m[\u001b[0m\u001b[0;36m0\u001b[0m \u001b[0;34m.\u001b[0m\u001b[0;34m.\u001b[0m \u001b[0;36m5\u001b[0m\u001b[0;34m]\u001b[0m\u001b[0;34m\u001b[0m\u001b[0;34m\u001b[0m\u001b[0m\n\u001b[1;32m     11\u001b[0m \u001b[0mprogram\u001b[0m \u001b[0mtest\u001b[0m\u001b[0;34m\u001b[0m\u001b[0;34m\u001b[0m\u001b[0m\n",
      "\u001b[0;32m~/PROJECT/P0.ipynb\u001b[0m in \u001b[0;36mcompileString\u001b[0;34m(src, dstfn, target)\u001b[0m\n\u001b[1;32m     11\u001b[0m     \u001b[0;34m\"\\n\"\u001b[0m\u001b[0;34m,\u001b[0m\u001b[0;34m\u001b[0m\u001b[0;34m\u001b[0m\u001b[0m\n\u001b[1;32m     12\u001b[0m     \u001b[0;34m\"This collection of Jupyter notebooks develops a compiler for P0, a programming language inspired by Pascal, a language designed for ease of compilation. The differences to Pascal are that indentation is used for bracketing, there are only value and result parameters (no reference parameters), multiple assignments are allowed, the syntax for procedure calls, procedure declarations, array declarations, and record declarations is different, and Unicode characters are used. The compiler currently generates WebAssebmbly and MIPS code, but is modularized to facilitate other targets. WebAssembly is representative of stack-based virtual machines while the MIPS architecture is representative of Reduced Instruction Set Computing (RISC) processors.\"\u001b[0m\u001b[0;34m\u001b[0m\u001b[0;34m\u001b[0m\u001b[0m\n\u001b[0;32m---> 13\u001b[0;31m    ]\n\u001b[0m\u001b[1;32m     14\u001b[0m   },\n\u001b[1;32m     15\u001b[0m   {\n",
      "\u001b[0;31mException\u001b[0m: line 9 pos 29 bad type 1"
     ]
    }
   ],
   "source": [
    "compileString(\"\"\"\n",
    "type Set = set[0 .. 5]\n",
    "program test\n",
    "    var odds:Set\n",
    "    var i:integer\n",
    "        odds := {i ∈ 0 .. 5 | i mod 2 = 1 • i}   \n",
    "\"\"\", 'test.wat', target = 'wat')\n",
    "\n",
    "compileString(\"\"\"\n",
    "type Set = set[0 .. 5]\n",
    "program test\n",
    "    var odds:Set\n",
    "    var i:integer\n",
    "    var sample:Set\n",
    "        odds := {i for i ∈ 0 .. 5 if i mod 2 = 1}   \n",
    "        \n",
    "        if sample = odds then\n",
    "            write(1)\n",
    "        else\n",
    "            write(0)\n",
    "\"\"\", 'test.wat', target = 'wat')"
   ]
  },
  {
   "cell_type": "code",
   "execution_count": 16,
   "metadata": {},
   "outputs": [
    {
     "data": {
      "application/javascript": [
       "\n",
       "    const params = { \n",
       "        P0lib: { \n",
       "            write: i => this.append_stream({text: '' + i, name: 'stdout'}),\n",
       "            writeln: () => this.append_stream({text: '\\n', name: 'stdout'}),\n",
       "            read: () => window.prompt()\n",
       "        }\n",
       "    }\n",
       "\n",
       "    fetch('test.wasm') // asynchronously fetch file, return Response object\n",
       "      .then(response => response.arrayBuffer()) // read the response to completion and stores it in an ArrayBuffer\n",
       "      .then(code => WebAssembly.compile(code)) // compile (sharable) code.wasm\n",
       "      .then(module => WebAssembly.instantiate(module, params)) // create an instance with memory\n",
       "    // .then(instance => instance.exports.program()); // run the main program; not needed if start function specified\n",
       "    "
      ],
      "text/plain": [
       "<IPython.core.display.Javascript object>"
      ]
     },
     "metadata": {},
     "output_type": "display_data"
    }
   ],
   "source": [
    "!wat2wasm test.wat\n",
    "runwasm(\"test.wasm\")"
   ]
  },
  {
   "cell_type": "code",
   "execution_count": null,
   "metadata": {},
   "outputs": [],
   "source": []
  }
 ],
 "metadata": {
  "interpreter": {
   "hash": "31f2aee4e71d21fbe5cf8b01ff0e069b9275f58929596ceb00d14d90e3e16cd6"
  },
  "kernelspec": {
   "display_name": "Python 3",
   "language": "python",
   "name": "python3"
  },
  "language_info": {
   "codemirror_mode": {
    "name": "ipython",
    "version": 3
   },
   "file_extension": ".py",
   "mimetype": "text/x-python",
   "name": "python",
   "nbconvert_exporter": "python",
   "pygments_lexer": "ipython3",
   "version": "3.8.8"
  }
 },
 "nbformat": 4,
 "nbformat_minor": 2
}
